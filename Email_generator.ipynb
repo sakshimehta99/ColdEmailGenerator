{
 "cells": [
  {
   "cell_type": "code",
   "execution_count": 3,
   "id": "417bf033-3163-46f4-acc1-cc018f2cbf08",
   "metadata": {},
   "outputs": [],
   "source": [
    "from langchain_groq import ChatGroq"
   ]
  },
  {
   "cell_type": "code",
   "execution_count": 4,
   "id": "56c3afa1-0206-4b13-824a-f5e321677f74",
   "metadata": {},
   "outputs": [
    {
     "name": "stdout",
     "output_type": "stream",
     "text": [
      "The first person to land on the moon was Neil Armstrong. He stepped out of the lunar module Eagle and onto the moon's surface on July 20, 1969, during the Apollo 11 mission.\n"
     ]
    }
   ],
   "source": [
    "llm = ChatGroq(\n",
    "    model=\"llama-3.1-70b-versatile\",\n",
    "    temperature=0,\n",
    "    groq_api_key=\"\",\n",
    "\n",
    "    # other params...\n",
    ")\n",
    "\n",
    "\n",
    "response = llm.invoke(\"The first person to land on moon?\")\n",
    "print(response.content)"
   ]
  },
  {
   "cell_type": "code",
   "execution_count": 7,
   "id": "602d99c5-4086-4ab7-87d1-a41ce572e17d",
   "metadata": {},
   "outputs": [
    {
     "name": "stdout",
     "output_type": "stream",
     "text": [
      "Apply for Machine Learning Engineer - Supply Chain\n",
      "\n",
      "Search JobsSkip navigationSearch JobsNIKE, INC. JOBSContract JobsJoin The Talent CommunityLife @ NikeOverviewBenefitsBrandsOverviewJordanConverseTeamsOverviewAdministrative SupportAdvanced InnovationAir Manufacturing InnovationAviationCommunicationsCustomer ServiceDesignDigitalFacilitiesFinance & AccountingGovernment & Public AffairsHuman ResourcesInsights & AnalyticsLegalManufacturing & EngineeringMarketingMerchandisingPlanningPrivacyProcurementProduct Creation, Development & ManagementRetail CorporateRetail StoresSalesSocial & Community ImpactSports MarketingStrategic PlanningSupply Chain, Distribution & LogisticsSustainabilityTechnologyLocationsOverviewNike WHQNike New York HQEHQ: Hilversum, The NetherlandsELC: Laakdal, BelgiumGreater China HQDiversity, Equity & InclusionOverviewMilitary InclusionDisability InclusionIndigenous InclusionInternshipsData & AnalyticsMachine Learning Engineer - Supply ChainBeaverton, OregonBecome a Part of the NIKE, Inc. Team\n",
      "NIKE, Inc. does more than outfit the world’s best athletes. It is a place to explore potential, obliterate boundaries and push out the edges of what can be. The company looks for people who can grow, think, dream and create. Its culture thrives by embracing diversity and rewarding imagination. The brand seeks achievers, leaders and visionaries. At NIKE, Inc. it’s about each person bringing skills and passion to a challenging and constantly evolving game.Open to remote work except in South Dakota, Vermont and West Virginia.The annual base salary for this position ranges from $82,900.00 in our lowest geographic market to $185,700.00 in our highest geographic market. Actual salary will vary based on a candidate's location, qualifications, skills and experience.Information about benefits can be found here. This posting is for two positions within the Enterprise AI/ML function.WHO ARE WE LOOKING FORWe seek passionate engineers to join our team!  As a Machine Learning Engineer, you will develop robust advanced analytics and machine learning solutions that have a direct impact on the Supply Chain infrastructure.  You should have experience in Python; a strong background in algorithms and data structures; hands-on AWS experience; as well as experience in database technology (e.g. Postgres, Redis) and data processing technology (e.g. EMR).  You should also have a demonstrable history of team leadership and value delivery, and be comfortable working in an agile product model.  As a ML Engineer, you will be expected to own projects end-to-end - from conception to operationalization, demonstrating an understanding of the full software development lifecycle.  As a result, you will be expected to provide technical vision and guidance to your teammates; therefore, strong communication skills are critical in this role. WHAT WILL YOU WORK ONIf this is you, you’ll be working with the Artificial Intelligence and Machine Learning (AI/ML) team at Nike.  With teammates in Portland, Boston, and Poland, you’ll be joining a global organization working to solve machine learning problems at scale.  You’ll be designing and implementing scalable applications that leverage prediction models and optimization programs to deliver data driven decisions that result in immense business impact.  You’ll also contribute to core advanced analytics and machine learning platforms and tools to enable both prediction and optimization model development.  You thrive when surrounded by talented colleagues and aim to never stop learning. We are looking for candidates who enjoy a collaborative and academic environment where we develop and share new skills, mentor, and contribute knowledge and software back to the analytics and engineering communities both within Nike and at-large.We value and nurture our culture by seeking to always be collaborative, intellectually curious, fun, open, and diverse.WHO WILL YOU WORK WITHIn this role, you’ll be working closely with the rest of our global team, along with commercial and consumer analytics, and enterprise architecture teams. You will report to the director of Supply Chain AI/ML Engineering.WHAT YOU BRING Bachelor's degree in Computer Science, or combination of relevant education, experience.1-3 years of professional experience in software engineering, data engineering, machine learning, or related fieldA demonstrated problem solving and analytical mindsetAbility to write robust, maintainable, and extendable code in Python; containerized in Docker, and automated with CI/CDExperience with agile development and test driven developmentUnderstanding of data structures, data modeling and software architectureExperience with data sets, ETL pipelines, SQL, and general data engineeringExposure to MLOps, API development, or mathematical optimization are highly desirableExperience with cloud architecture and technologies, in particular Amazon Web ServicesExperience with technologies like Spark, Kubernetes, Docker, Jenkins, Databricks, Terraform is also highly desirableEffective communication skills (with team members, the business, and in code)NIKE, Inc. is a growth company that looks for team members to grow with it. Nike offers a generous total rewards package, casual work environment, a diverse and inclusive culture, and an electric atmosphere for professional development. No matter the location, or the role, every Nike employee shares one galvanizing mission: To bring inspiration and innovation to every athlete* in the world.NIKE, Inc. is committed to employing a diverse workforce. Qualified applicants will receive consideration without regard to race, color, religion, sex, national origin, age, sexual orientation, gender identity, gender expression, veteran status, or disability.How We HireAt NIKE, Inc. we promise to provide a premium, inclusive, compelling and authentic candidate experience. Delivering on this promise means we allow you to be at your best — and to do that, you need to understand how the hiring process works. Transparency is key.\n",
      "\n",
      "* This overview explains our hiring process for corporate roles. Note there may be different hiring steps involved for non-corporate roles.Start nowBenefitsWhether it’s transportation or financial health, we continually invest in our employees to help them achieve greatness — inside and outside of work. All who work here should be able to realize their full potential.Employee Assistance ProgramEmployee Stock Purchase Plan (ESPP)HolidaysMedical PlanPaid Time Off (PTO)Product DiscountsSabbaticalsLearn moreFIND A STOREBECOME A MEMBERSIGN UP FOR EMAILSEND US FEEDBACKSTUDENT DISCOUNTSGET HELPGET HELPOrder StatusDeliveryReturnsPayment OptionsContact Us On Nike.com InquiriesContact Us On All Other InquiriesABOUT NIKEABOUT NIKENewsCareersInvestorsSustainabilityIndia© 2024 Nike, Inc. All Rights ReservedGuidesNike AdaptNike Air MaxNike FlyleatherNike PegasusNike Zoom FlyNike AirNike FlyEaseNike FreeNike ReactNike ZoomXNike Air Force 1Nike FlyknitNike JoyrideNike VaporflyTerms of SaleTerms of UseNike Privacy Policy\n"
     ]
    }
   ],
   "source": [
    "from langchain_community.document_loaders import WebBaseLoader\n",
    "\n",
    "loader = WebBaseLoader(\"https://jobs.nike.com/job/R-39879?from=job%20search%20funnel\")\n",
    "page_data = loader.load().pop().page_content\n",
    "print(page_data)"
   ]
  },
  {
   "cell_type": "code",
   "execution_count": 37,
   "id": "7b0933cd-8625-444b-93c5-987083e9daa0",
   "metadata": {},
   "outputs": [],
   "source": [
    "from langchain_core.prompts import ChatPromptTemplate"
   ]
  },
  {
   "cell_type": "code",
   "execution_count": 14,
   "id": "e516bfaf-57f5-49c5-af06-036721876cb7",
   "metadata": {},
   "outputs": [
    {
     "name": "stdout",
     "output_type": "stream",
     "text": [
      "```\n",
      "{\n",
      "  \"role\": \"Machine Learning Engineer - Supply Chain\",\n",
      "  \"experience\": \"1-3 years of professional experience in software engineering, data engineering, machine learning, or related field\",\n",
      "  \"skills\": [\n",
      "    \"Python\",\n",
      "    \"algorithms and data structures\",\n",
      "    \"AWS\",\n",
      "    \"database technology (e.g. Postgres, Redis)\",\n",
      "    \"data processing technology (e.g. EMR)\",\n",
      "    \"containerized in Docker\",\n",
      "    \"automated with CI/CD\",\n",
      "    \"agile development\",\n",
      "    \"test driven development\",\n",
      "    \"MLOps\",\n",
      "    \"API development\",\n",
      "    \"mathematical optimization\",\n",
      "    \"cloud architecture and technologies\",\n",
      "    \"Amazon Web Services\",\n",
      "    \"Spark\",\n",
      "    \"Kubernetes\",\n",
      "    \"Docker\",\n",
      "    \"Jenkins\",\n",
      "    \"Databricks\",\n",
      "    \"Terraform\"\n",
      "  ],\n",
      "  \"description\": \"Develop robust advanced analytics and machine learning solutions that have a direct impact on the Supply Chain infrastructure. Design and implement scalable applications that leverage prediction models and optimization programs to deliver data driven decisions that result in immense business impact.\"\n",
      "}\n",
      "```\n"
     ]
    }
   ],
   "source": [
    "prompt_extract = ChatPromptTemplate.from_template(\n",
    "\n",
    "\"\"\"\n",
    "### SCRAPED TEXT FROM WEBSITE:\n",
    "{page_data}\n",
    "### INSTRUCTION:\n",
    "The scapred text is from a careers page of a website.  \n",
    "Your job is to extract the job postings and return them in JSON format containing the following keys: \n",
    "'role', 'experience', 'skills' and 'description'.\n",
    "Only return the valid JSON.\n",
    "### VALID JSON (NO PREAMBLE):\n",
    "\"\"\"\n",
    "\n",
    "\n",
    ")\n",
    "\n",
    "chain_extract = prompt_extract | llm \n",
    "res = chain_extract.invoke(input={'page_data': page_data})\n",
    "print(res.content)"
   ]
  },
  {
   "cell_type": "code",
   "execution_count": 15,
   "id": "3cd026ab-c378-4254-8f1c-e2f266794776",
   "metadata": {},
   "outputs": [],
   "source": [
    "from langchain_core.output_parsers import JsonOutputParser"
   ]
  },
  {
   "cell_type": "code",
   "execution_count": 17,
   "id": "c8e6f78d-a5d3-4603-ab6b-e09bf41503f4",
   "metadata": {},
   "outputs": [
    {
     "data": {
      "text/plain": [
       "{'role': 'Machine Learning Engineer - Supply Chain',\n",
       " 'experience': '1-3 years of professional experience in software engineering, data engineering, machine learning, or related field',\n",
       " 'skills': ['Python',\n",
       "  'algorithms and data structures',\n",
       "  'AWS',\n",
       "  'database technology (e.g. Postgres, Redis)',\n",
       "  'data processing technology (e.g. EMR)',\n",
       "  'containerized in Docker',\n",
       "  'automated with CI/CD',\n",
       "  'agile development',\n",
       "  'test driven development',\n",
       "  'MLOps',\n",
       "  'API development',\n",
       "  'mathematical optimization',\n",
       "  'cloud architecture and technologies',\n",
       "  'Amazon Web Services',\n",
       "  'Spark',\n",
       "  'Kubernetes',\n",
       "  'Docker',\n",
       "  'Jenkins',\n",
       "  'Databricks',\n",
       "  'Terraform'],\n",
       " 'description': 'Develop robust advanced analytics and machine learning solutions that have a direct impact on the Supply Chain infrastructure. Design and implement scalable applications that leverage prediction models and optimization programs to deliver data driven decisions that result in immense business impact.'}"
      ]
     },
     "execution_count": 17,
     "metadata": {},
     "output_type": "execute_result"
    }
   ],
   "source": [
    "json_parser = JsonOutputParser()\n",
    "json_res = json_parser.parse(res.content)\n",
    "json_res"
   ]
  },
  {
   "cell_type": "code",
   "execution_count": 19,
   "id": "9828d6b9-ee11-4034-88c4-7badfe576329",
   "metadata": {},
   "outputs": [],
   "source": [
    "import pandas as pd"
   ]
  },
  {
   "cell_type": "code",
   "execution_count": 20,
   "id": "f3be65da-3a43-4a31-b53f-4cdd270224f4",
   "metadata": {},
   "outputs": [],
   "source": [
    "df = pd.read_csv(\"my_portfolio.csv\")"
   ]
  },
  {
   "cell_type": "code",
   "execution_count": 21,
   "id": "173ae7c9-7b92-4560-b930-8bf1274516af",
   "metadata": {},
   "outputs": [
    {
     "data": {
      "text/html": [
       "<div>\n",
       "<style scoped>\n",
       "    .dataframe tbody tr th:only-of-type {\n",
       "        vertical-align: middle;\n",
       "    }\n",
       "\n",
       "    .dataframe tbody tr th {\n",
       "        vertical-align: top;\n",
       "    }\n",
       "\n",
       "    .dataframe thead th {\n",
       "        text-align: right;\n",
       "    }\n",
       "</style>\n",
       "<table border=\"1\" class=\"dataframe\">\n",
       "  <thead>\n",
       "    <tr style=\"text-align: right;\">\n",
       "      <th></th>\n",
       "      <th>Techstack</th>\n",
       "      <th>Links</th>\n",
       "    </tr>\n",
       "  </thead>\n",
       "  <tbody>\n",
       "    <tr>\n",
       "      <th>0</th>\n",
       "      <td>React, Node.js, MongoDB</td>\n",
       "      <td>https://example.com/react-portfolio</td>\n",
       "    </tr>\n",
       "    <tr>\n",
       "      <th>1</th>\n",
       "      <td>Angular,.NET, SQL Server</td>\n",
       "      <td>https://example.com/angular-portfolio</td>\n",
       "    </tr>\n",
       "    <tr>\n",
       "      <th>2</th>\n",
       "      <td>Vue.js, Ruby on Rails, PostgreSQL</td>\n",
       "      <td>https://example.com/vue-portfolio</td>\n",
       "    </tr>\n",
       "    <tr>\n",
       "      <th>3</th>\n",
       "      <td>Python, Django, MySQL</td>\n",
       "      <td>https://example.com/python-portfolio</td>\n",
       "    </tr>\n",
       "    <tr>\n",
       "      <th>4</th>\n",
       "      <td>Java, Spring Boot, Oracle</td>\n",
       "      <td>https://example.com/java-portfolio</td>\n",
       "    </tr>\n",
       "    <tr>\n",
       "      <th>5</th>\n",
       "      <td>Flutter, Firebase, GraphQL</td>\n",
       "      <td>https://example.com/flutter-portfolio</td>\n",
       "    </tr>\n",
       "    <tr>\n",
       "      <th>6</th>\n",
       "      <td>WordPress, PHP, MySQL</td>\n",
       "      <td>https://example.com/wordpress-portfolio</td>\n",
       "    </tr>\n",
       "    <tr>\n",
       "      <th>7</th>\n",
       "      <td>Magento, PHP, MySQL</td>\n",
       "      <td>https://example.com/magento-portfolio</td>\n",
       "    </tr>\n",
       "    <tr>\n",
       "      <th>8</th>\n",
       "      <td>React Native, Node.js, MongoDB</td>\n",
       "      <td>https://example.com/react-native-portfolio</td>\n",
       "    </tr>\n",
       "    <tr>\n",
       "      <th>9</th>\n",
       "      <td>iOS, Swift, Core Data</td>\n",
       "      <td>https://example.com/ios-portfolio</td>\n",
       "    </tr>\n",
       "    <tr>\n",
       "      <th>10</th>\n",
       "      <td>Android, Java, Room Persistence</td>\n",
       "      <td>https://example.com/android-portfolio</td>\n",
       "    </tr>\n",
       "    <tr>\n",
       "      <th>11</th>\n",
       "      <td>Kotlin, Android, Firebase</td>\n",
       "      <td>https://example.com/kotlin-android-portfolio</td>\n",
       "    </tr>\n",
       "    <tr>\n",
       "      <th>12</th>\n",
       "      <td>Android TV, Kotlin, Android NDK</td>\n",
       "      <td>https://example.com/android-tv-portfolio</td>\n",
       "    </tr>\n",
       "    <tr>\n",
       "      <th>13</th>\n",
       "      <td>iOS, Swift, ARKit</td>\n",
       "      <td>https://example.com/ios-ar-portfolio</td>\n",
       "    </tr>\n",
       "    <tr>\n",
       "      <th>14</th>\n",
       "      <td>Cross-platform, Xamarin, Azure</td>\n",
       "      <td>https://example.com/xamarin-portfolio</td>\n",
       "    </tr>\n",
       "    <tr>\n",
       "      <th>15</th>\n",
       "      <td>Backend, Kotlin, Spring Boot</td>\n",
       "      <td>https://example.com/kotlin-backend-portfolio</td>\n",
       "    </tr>\n",
       "    <tr>\n",
       "      <th>16</th>\n",
       "      <td>Frontend, TypeScript, Angular</td>\n",
       "      <td>https://example.com/typescript-frontend-portfolio</td>\n",
       "    </tr>\n",
       "    <tr>\n",
       "      <th>17</th>\n",
       "      <td>Full-stack, JavaScript, Express.js</td>\n",
       "      <td>https://example.com/full-stack-js-portfolio</td>\n",
       "    </tr>\n",
       "    <tr>\n",
       "      <th>18</th>\n",
       "      <td>Machine Learning, Python, TensorFlow</td>\n",
       "      <td>https://example.com/ml-python-portfolio</td>\n",
       "    </tr>\n",
       "    <tr>\n",
       "      <th>19</th>\n",
       "      <td>DevOps, Jenkins, Docker</td>\n",
       "      <td>https://example.com/devops-portfolio</td>\n",
       "    </tr>\n",
       "  </tbody>\n",
       "</table>\n",
       "</div>"
      ],
      "text/plain": [
       "                               Techstack  \\\n",
       "0                React, Node.js, MongoDB   \n",
       "1               Angular,.NET, SQL Server   \n",
       "2      Vue.js, Ruby on Rails, PostgreSQL   \n",
       "3                  Python, Django, MySQL   \n",
       "4              Java, Spring Boot, Oracle   \n",
       "5             Flutter, Firebase, GraphQL   \n",
       "6                  WordPress, PHP, MySQL   \n",
       "7                    Magento, PHP, MySQL   \n",
       "8         React Native, Node.js, MongoDB   \n",
       "9                  iOS, Swift, Core Data   \n",
       "10       Android, Java, Room Persistence   \n",
       "11             Kotlin, Android, Firebase   \n",
       "12       Android TV, Kotlin, Android NDK   \n",
       "13                     iOS, Swift, ARKit   \n",
       "14        Cross-platform, Xamarin, Azure   \n",
       "15          Backend, Kotlin, Spring Boot   \n",
       "16         Frontend, TypeScript, Angular   \n",
       "17    Full-stack, JavaScript, Express.js   \n",
       "18  Machine Learning, Python, TensorFlow   \n",
       "19               DevOps, Jenkins, Docker   \n",
       "\n",
       "                                                Links  \n",
       "0                 https://example.com/react-portfolio  \n",
       "1               https://example.com/angular-portfolio  \n",
       "2                   https://example.com/vue-portfolio  \n",
       "3                https://example.com/python-portfolio  \n",
       "4                  https://example.com/java-portfolio  \n",
       "5               https://example.com/flutter-portfolio  \n",
       "6             https://example.com/wordpress-portfolio  \n",
       "7               https://example.com/magento-portfolio  \n",
       "8          https://example.com/react-native-portfolio  \n",
       "9                   https://example.com/ios-portfolio  \n",
       "10              https://example.com/android-portfolio  \n",
       "11       https://example.com/kotlin-android-portfolio  \n",
       "12           https://example.com/android-tv-portfolio  \n",
       "13               https://example.com/ios-ar-portfolio  \n",
       "14              https://example.com/xamarin-portfolio  \n",
       "15       https://example.com/kotlin-backend-portfolio  \n",
       "16  https://example.com/typescript-frontend-portfolio  \n",
       "17        https://example.com/full-stack-js-portfolio  \n",
       "18            https://example.com/ml-python-portfolio  \n",
       "19               https://example.com/devops-portfolio  "
      ]
     },
     "execution_count": 21,
     "metadata": {},
     "output_type": "execute_result"
    }
   ],
   "source": [
    "df"
   ]
  },
  {
   "cell_type": "code",
   "execution_count": 28,
   "id": "e004ae11-ab40-42fa-b553-e585a17143e2",
   "metadata": {},
   "outputs": [],
   "source": [
    "import chromadb\n",
    "import uuid\n",
    "from uuid import uuid4\n",
    "\n",
    "\n",
    "\n",
    "client = chromadb.PersistentClient('vectorstore')\n",
    "collection = client.get_or_create_collection(name='portfolio')\n",
    "\n",
    "if not collection.count():\n",
    "    for _, row in df.iterrows():\n",
    "        collection.add(documents=row[\"Techstack\"],\n",
    "                       metadatas={\"links\" : row[\"Links\"]},\n",
    "                       ids=[str(uuid.uuid4())])\n",
    "        "
   ]
  },
  {
   "cell_type": "code",
   "execution_count": 32,
   "id": "03a4bb74-adb3-44b2-ab31-9977dca7ff18",
   "metadata": {},
   "outputs": [
    {
     "data": {
      "text/plain": [
       "[[{'links': 'https://example.com/ml-python-portfolio'},\n",
       "  {'links': 'https://example.com/python-portfolio'}],\n",
       " [{'links': 'https://example.com/react-native-portfolio'},\n",
       "  {'links': 'https://example.com/react-portfolio'}]]"
      ]
     },
     "execution_count": 32,
     "metadata": {},
     "output_type": "execute_result"
    }
   ],
   "source": [
    "links = collection.query(query_texts=[\"Experience in Python\", \"Expertise in React Native\"], n_results=2).get('metadatas')\n",
    "links"
   ]
  },
  {
   "cell_type": "code",
   "execution_count": 33,
   "id": "f43ecb2d-7d25-4898-8d7a-028d894e0a39",
   "metadata": {},
   "outputs": [
    {
     "data": {
      "text/plain": [
       "['Python',\n",
       " 'algorithms and data structures',\n",
       " 'AWS',\n",
       " 'database technology (e.g. Postgres, Redis)',\n",
       " 'data processing technology (e.g. EMR)',\n",
       " 'containerized in Docker',\n",
       " 'automated with CI/CD',\n",
       " 'agile development',\n",
       " 'test driven development',\n",
       " 'MLOps',\n",
       " 'API development',\n",
       " 'mathematical optimization',\n",
       " 'cloud architecture and technologies',\n",
       " 'Amazon Web Services',\n",
       " 'Spark',\n",
       " 'Kubernetes',\n",
       " 'Docker',\n",
       " 'Jenkins',\n",
       " 'Databricks',\n",
       " 'Terraform']"
      ]
     },
     "execution_count": 33,
     "metadata": {},
     "output_type": "execute_result"
    }
   ],
   "source": [
    "job = json_res\n",
    "job['skills']"
   ]
  },
  {
   "cell_type": "code",
   "execution_count": 34,
   "id": "dc38dad1-b30a-42b0-a1d4-0c11a9b69348",
   "metadata": {},
   "outputs": [
    {
     "data": {
      "text/plain": [
       "[[{'links': 'https://example.com/ml-python-portfolio'},\n",
       "  {'links': 'https://example.com/python-portfolio'}],\n",
       " [{'links': 'https://example.com/ml-python-portfolio'},\n",
       "  {'links': 'https://example.com/magento-portfolio'}],\n",
       " [{'links': 'https://example.com/ios-ar-portfolio'},\n",
       "  {'links': 'https://example.com/wordpress-portfolio'}],\n",
       " [{'links': 'https://example.com/magento-portfolio'},\n",
       "  {'links': 'https://example.com/vue-portfolio'}],\n",
       " [{'links': 'https://example.com/ml-python-portfolio'},\n",
       "  {'links': 'https://example.com/magento-portfolio'}],\n",
       " [{'links': 'https://example.com/devops-portfolio'},\n",
       "  {'links': 'https://example.com/ios-ar-portfolio'}],\n",
       " [{'links': 'https://example.com/devops-portfolio'},\n",
       "  {'links': 'https://example.com/magento-portfolio'}],\n",
       " [{'links': 'https://example.com/ios-ar-portfolio'},\n",
       "  {'links': 'https://example.com/devops-portfolio'}],\n",
       " [{'links': 'https://example.com/devops-portfolio'},\n",
       "  {'links': 'https://example.com/ml-python-portfolio'}],\n",
       " [{'links': 'https://example.com/devops-portfolio'},\n",
       "  {'links': 'https://example.com/ml-python-portfolio'}],\n",
       " [{'links': 'https://example.com/flutter-portfolio'},\n",
       "  {'links': 'https://example.com/ios-ar-portfolio'}],\n",
       " [{'links': 'https://example.com/ml-python-portfolio'},\n",
       "  {'links': 'https://example.com/wordpress-portfolio'}],\n",
       " [{'links': 'https://example.com/xamarin-portfolio'},\n",
       "  {'links': 'https://example.com/flutter-portfolio'}],\n",
       " [{'links': 'https://example.com/wordpress-portfolio'},\n",
       "  {'links': 'https://example.com/magento-portfolio'}],\n",
       " [{'links': 'https://example.com/kotlin-android-portfolio'},\n",
       "  {'links': 'https://example.com/kotlin-backend-portfolio'}],\n",
       " [{'links': 'https://example.com/devops-portfolio'},\n",
       "  {'links': 'https://example.com/kotlin-backend-portfolio'}],\n",
       " [{'links': 'https://example.com/devops-portfolio'},\n",
       "  {'links': 'https://example.com/ios-ar-portfolio'}],\n",
       " [{'links': 'https://example.com/devops-portfolio'},\n",
       "  {'links': 'https://example.com/kotlin-backend-portfolio'}],\n",
       " [{'links': 'https://example.com/flutter-portfolio'},\n",
       "  {'links': 'https://example.com/kotlin-android-portfolio'}],\n",
       " [{'links': 'https://example.com/devops-portfolio'},\n",
       "  {'links': 'https://example.com/kotlin-backend-portfolio'}]]"
      ]
     },
     "execution_count": 34,
     "metadata": {},
     "output_type": "execute_result"
    }
   ],
   "source": [
    "links = collection.query(query_texts=job[\"skills\"], n_results=2).get('metadatas')\n",
    "links"
   ]
  },
  {
   "cell_type": "code",
   "execution_count": 39,
   "id": "aa19e36c-84ef-4372-90b6-0b23a6b32f10",
   "metadata": {},
   "outputs": [
    {
     "name": "stdout",
     "output_type": "stream",
     "text": [
      "Subject: Expert Machine Learning Solutions for Supply Chain Optimization\n",
      "\n",
      "Dear Hiring Manager,\n",
      "\n",
      "I came across the job description for a Machine Learning Engineer - Supply Chain at your esteemed organization, and I am excited to introduce AtliQ, an AI & Software Consulting company that can help you achieve your goals.\n",
      "\n",
      "At AtliQ, we have a proven track record of delivering tailored solutions that foster scalability, process optimization, cost reduction, and heightened overall efficiency. Our team of experts has extensive experience in developing robust advanced analytics and machine learning solutions that can have a direct impact on your Supply Chain infrastructure.\n",
      "\n",
      "Our capabilities align perfectly with your requirements, including:\n",
      "\n",
      "* Developing scalable applications that leverage prediction models and optimization programs\n",
      "* Designing and implementing cloud architecture and technologies using Amazon Web Services\n",
      "* Building and deploying containerized applications using Docker and Kubernetes\n",
      "* Implementing automated CI/CD pipelines using Jenkins and Terraform\n",
      "* Developing APIs and integrating with various data sources using Python and Spark\n",
      "\n",
      "I would like to showcase some of our relevant portfolio pieces that demonstrate our expertise in machine learning and Python development:\n",
      "\n",
      "* https://example.com/ml-python-portfolio\n",
      "* https://example.com/python-portfolio\n",
      "* https://example.com/devops-portfolio\n",
      "\n",
      "These projects highlight our ability to develop and deploy complex machine learning models, design and implement scalable architectures, and automate workflows using DevOps practices.\n",
      "\n",
      "I would be delighted to discuss how AtliQ can help you achieve your goals and provide a customized solution for your Supply Chain optimization needs. Please feel free to reply to this email or schedule a call at your convenience.\n",
      "\n",
      "Best regards,\n",
      "\n",
      "Sakshi\n",
      "Business Development Executive\n",
      "AtliQ\n"
     ]
    }
   ],
   "source": [
    "prompt_email = PromptTemplate.from_template(\n",
    "    \n",
    "    \"\"\"\n",
    "    ### JOB DESCRIPTION:\n",
    "    {job_description}\n",
    "    \n",
    "    ### INSTRUCTION:\n",
    "        You are Sakshi, a business development executive at AtliQ. AtliQ is an AI & Software Consulting company dedicated to facilitating\n",
    "        the seamless integration of business processes through automated tools. \n",
    "        Over our experience, we have empowered numerous enterprises with tailored solutions, fostering scalability, \n",
    "        process optimization, cost reduction, and heightened overall efficiency. \n",
    "        Your job is to write a cold email to the client regarding the job mentioned above describing the capability of AtliQ \n",
    "        in fulfilling their needs.\n",
    "        Also add the most relevant ones from the following links to showcase Atliq's portfolio: {link_list}\n",
    "        Remember you are Mohan, BDE at AtliQ. \n",
    "        Do not provide a preamble.\n",
    "        ### EMAIL (NO PREAMBLE):\n",
    "        \n",
    "        \"\"\"\n",
    "        )\n",
    "\n",
    "\n",
    "chain_email = prompt_email | llm\n",
    "res = chain_email.invoke({\"job_description\":str(job), \"link_list\":links})\n",
    "print(res.content)"
   ]
  },
  {
   "cell_type": "code",
   "execution_count": null,
   "id": "632b8b60-787a-4888-b4d0-f27ae1849a13",
   "metadata": {},
   "outputs": [],
   "source": []
  }
 ],
 "metadata": {
  "kernelspec": {
   "display_name": "Python 3.10 (py310_ven_chroma)",
   "language": "python",
   "name": "py310_ven_chroma"
  },
  "language_info": {
   "codemirror_mode": {
    "name": "ipython",
    "version": 3
   },
   "file_extension": ".py",
   "mimetype": "text/x-python",
   "name": "python",
   "nbconvert_exporter": "python",
   "pygments_lexer": "ipython3",
   "version": "3.10.10"
  }
 },
 "nbformat": 4,
 "nbformat_minor": 5
}
