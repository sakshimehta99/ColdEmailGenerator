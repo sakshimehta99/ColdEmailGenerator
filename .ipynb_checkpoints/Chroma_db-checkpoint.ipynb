{
 "cells": [
  {
   "cell_type": "code",
   "execution_count": 1,
   "id": "155a1a66-abf4-4459-93ca-aafcc4812bf7",
   "metadata": {
    "tags": []
   },
   "outputs": [
    {
     "name": "stdout",
     "output_type": "stream",
     "text": [
      "D:\\Desktop\\SAKSHI\\cold_email_gen_2\\py310_ven_chroma\\Scripts\\python.exe\n",
      "['C:\\\\Users\\\\saksh\\\\AppData\\\\Local\\\\Programs\\\\Python\\\\Python310\\\\python310.zip', 'C:\\\\Users\\\\saksh\\\\AppData\\\\Local\\\\Programs\\\\Python\\\\Python310\\\\DLLs', 'C:\\\\Users\\\\saksh\\\\AppData\\\\Local\\\\Programs\\\\Python\\\\Python310\\\\lib', 'C:\\\\Users\\\\saksh\\\\AppData\\\\Local\\\\Programs\\\\Python\\\\Python310', 'D:\\\\Desktop\\\\SAKSHI\\\\cold_email_gen_2\\\\py310_ven_chroma', '', 'D:\\\\Desktop\\\\SAKSHI\\\\cold_email_gen_2\\\\py310_ven_chroma\\\\lib\\\\site-packages', 'D:\\\\Desktop\\\\SAKSHI\\\\cold_email_gen_2\\\\py310_ven_chroma\\\\lib\\\\site-packages\\\\win32', 'D:\\\\Desktop\\\\SAKSHI\\\\cold_email_gen_2\\\\py310_ven_chroma\\\\lib\\\\site-packages\\\\win32\\\\lib', 'D:\\\\Desktop\\\\SAKSHI\\\\cold_email_gen_2\\\\py310_ven_chroma\\\\lib\\\\site-packages\\\\Pythonwin']\n"
     ]
    }
   ],
   "source": [
    "import sys\n",
    "print(sys.executable)\n",
    "print(sys.path)\n"
   ]
  },
  {
   "cell_type": "code",
   "execution_count": 2,
   "id": "1e326dd7-7a22-4416-909d-62cf25a1c7f9",
   "metadata": {},
   "outputs": [
    {
     "name": "stdout",
     "output_type": "stream",
     "text": [
      "D:\\Desktop\\SAKSHI\\cold_email_gen_2\\py310_ven_chroma\\Scripts\\python.exe\n",
      "3.10.10 (tags/v3.10.10:aad5f6a, Feb  7 2023, 17:20:36) [MSC v.1929 64 bit (AMD64)]\n"
     ]
    }
   ],
   "source": [
    "import sys\n",
    "print(sys.executable)\n",
    "print(sys.version)"
   ]
  },
  {
   "cell_type": "code",
   "execution_count": 4,
   "id": "77fb21b6-2433-42ec-a7af-4d87eea8ab31",
   "metadata": {},
   "outputs": [
    {
     "name": "stdout",
     "output_type": "stream",
     "text": [
      "Collecting chromadb\n",
      "  Using cached chromadb-0.5.17-py3-none-any.whl (615 kB)\n",
      "Collecting fastapi>=0.95.2\n",
      "  Using cached fastapi-0.115.4-py3-none-any.whl (94 kB)\n",
      "Collecting pypika>=0.48.9\n",
      "  Using cached PyPika-0.48.9-py2.py3-none-any.whl\n",
      "Requirement already satisfied: httpx>=0.27.0 in d:\\desktop\\sakshi\\cold_email_gen_2\\py310_ven_chroma\\lib\\site-packages (from chromadb) (0.27.2)\n",
      "Collecting onnxruntime>=1.14.1\n",
      "  Using cached onnxruntime-1.20.0-cp310-cp310-win_amd64.whl (11.3 MB)\n",
      "Collecting opentelemetry-exporter-otlp-proto-grpc>=1.2.0\n",
      "  Using cached opentelemetry_exporter_otlp_proto_grpc-1.27.0-py3-none-any.whl (18 kB)\n",
      "Collecting importlib-resources\n",
      "  Using cached importlib_resources-6.4.5-py3-none-any.whl (36 kB)\n",
      "Requirement already satisfied: overrides>=7.3.1 in d:\\desktop\\sakshi\\cold_email_gen_2\\py310_ven_chroma\\lib\\site-packages (from chromadb) (7.7.0)\n",
      "Collecting posthog>=2.4.0\n",
      "  Using cached posthog-3.7.0-py2.py3-none-any.whl (54 kB)\n",
      "Requirement already satisfied: typing-extensions>=4.5.0 in d:\\desktop\\sakshi\\cold_email_gen_2\\py310_ven_chroma\\lib\\site-packages (from chromadb) (4.12.2)\n",
      "Collecting opentelemetry-sdk>=1.2.0\n",
      "  Using cached opentelemetry_sdk-1.27.0-py3-none-any.whl (110 kB)\n",
      "Collecting rich>=10.11.0\n",
      "  Using cached rich-13.9.4-py3-none-any.whl (242 kB)\n",
      "Collecting orjson>=3.9.12\n",
      "  Using cached orjson-3.10.11-cp310-none-win_amd64.whl (136 kB)\n",
      "Collecting tokenizers>=0.13.2\n",
      "  Using cached tokenizers-0.20.2-cp310-none-win_amd64.whl (2.4 MB)\n",
      "Collecting mmh3>=4.0.1\n",
      "  Using cached mmh3-5.0.1-cp310-cp310-win_amd64.whl (39 kB)\n",
      "Collecting chroma-hnswlib==0.7.6\n",
      "  Using cached chroma_hnswlib-0.7.6-cp310-cp310-win_amd64.whl (150 kB)\n",
      "Collecting tenacity>=8.2.3\n",
      "  Using cached tenacity-9.0.0-py3-none-any.whl (28 kB)\n",
      "Collecting opentelemetry-instrumentation-fastapi>=0.41b0\n",
      "  Using cached opentelemetry_instrumentation_fastapi-0.48b0-py3-none-any.whl (11 kB)\n",
      "Collecting grpcio>=1.58.0\n",
      "  Using cached grpcio-1.67.1-cp310-cp310-win_amd64.whl (4.4 MB)\n",
      "Collecting bcrypt>=4.0.1\n",
      "  Using cached bcrypt-4.2.0-cp39-abi3-win_amd64.whl (151 kB)\n",
      "Collecting pydantic>=1.9\n",
      "  Using cached pydantic-2.9.2-py3-none-any.whl (434 kB)\n",
      "Collecting kubernetes>=28.1.0\n",
      "  Using cached kubernetes-31.0.0-py2.py3-none-any.whl (1.9 MB)\n",
      "Collecting build>=1.0.3\n",
      "  Using cached build-1.2.2.post1-py3-none-any.whl (22 kB)\n",
      "Collecting opentelemetry-api>=1.2.0\n",
      "  Using cached opentelemetry_api-1.27.0-py3-none-any.whl (63 kB)\n",
      "Collecting numpy>=1.22.5\n",
      "  Using cached numpy-2.1.3-cp310-cp310-win_amd64.whl (12.9 MB)\n",
      "Requirement already satisfied: PyYAML>=6.0.0 in d:\\desktop\\sakshi\\cold_email_gen_2\\py310_ven_chroma\\lib\\site-packages (from chromadb) (6.0.2)\n",
      "Collecting uvicorn[standard]>=0.18.3\n",
      "  Using cached uvicorn-0.32.0-py3-none-any.whl (63 kB)\n",
      "Collecting typer>=0.9.0\n",
      "  Using cached typer-0.12.5-py3-none-any.whl (47 kB)\n",
      "Collecting tqdm>=4.65.0\n",
      "  Using cached tqdm-4.66.6-py3-none-any.whl (78 kB)\n",
      "Requirement already satisfied: colorama in d:\\desktop\\sakshi\\cold_email_gen_2\\py310_ven_chroma\\lib\\site-packages (from build>=1.0.3->chromadb) (0.4.6)\n",
      "Collecting pyproject_hooks\n",
      "  Using cached pyproject_hooks-1.2.0-py3-none-any.whl (10 kB)\n",
      "Requirement already satisfied: tomli>=1.1.0 in d:\\desktop\\sakshi\\cold_email_gen_2\\py310_ven_chroma\\lib\\site-packages (from build>=1.0.3->chromadb) (2.0.2)\n",
      "Requirement already satisfied: packaging>=19.1 in d:\\desktop\\sakshi\\cold_email_gen_2\\py310_ven_chroma\\lib\\site-packages (from build>=1.0.3->chromadb) (24.1)\n",
      "Collecting starlette<0.42.0,>=0.40.0\n",
      "  Using cached starlette-0.41.2-py3-none-any.whl (73 kB)\n",
      "Requirement already satisfied: anyio in d:\\desktop\\sakshi\\cold_email_gen_2\\py310_ven_chroma\\lib\\site-packages (from httpx>=0.27.0->chromadb) (4.6.2.post1)\n",
      "Requirement already satisfied: httpcore==1.* in d:\\desktop\\sakshi\\cold_email_gen_2\\py310_ven_chroma\\lib\\site-packages (from httpx>=0.27.0->chromadb) (1.0.6)\n",
      "Requirement already satisfied: certifi in d:\\desktop\\sakshi\\cold_email_gen_2\\py310_ven_chroma\\lib\\site-packages (from httpx>=0.27.0->chromadb) (2024.8.30)\n",
      "Requirement already satisfied: idna in d:\\desktop\\sakshi\\cold_email_gen_2\\py310_ven_chroma\\lib\\site-packages (from httpx>=0.27.0->chromadb) (3.10)\n",
      "Requirement already satisfied: sniffio in d:\\desktop\\sakshi\\cold_email_gen_2\\py310_ven_chroma\\lib\\site-packages (from httpx>=0.27.0->chromadb) (1.3.1)\n",
      "Requirement already satisfied: h11<0.15,>=0.13 in d:\\desktop\\sakshi\\cold_email_gen_2\\py310_ven_chroma\\lib\\site-packages (from httpcore==1.*->httpx>=0.27.0->chromadb) (0.14.0)\n",
      "Collecting requests-oauthlib\n",
      "  Using cached requests_oauthlib-2.0.0-py2.py3-none-any.whl (24 kB)\n",
      "Collecting oauthlib>=3.2.2\n",
      "  Using cached oauthlib-3.2.2-py3-none-any.whl (151 kB)\n",
      "Requirement already satisfied: requests in d:\\desktop\\sakshi\\cold_email_gen_2\\py310_ven_chroma\\lib\\site-packages (from kubernetes>=28.1.0->chromadb) (2.32.3)\n",
      "Requirement already satisfied: six>=1.9.0 in d:\\desktop\\sakshi\\cold_email_gen_2\\py310_ven_chroma\\lib\\site-packages (from kubernetes>=28.1.0->chromadb) (1.16.0)\n",
      "Collecting google-auth>=1.0.1\n",
      "  Using cached google_auth-2.35.0-py2.py3-none-any.whl (208 kB)\n",
      "Collecting durationpy>=0.7\n",
      "  Using cached durationpy-0.9-py3-none-any.whl (3.5 kB)\n",
      "Requirement already satisfied: urllib3>=1.24.2 in d:\\desktop\\sakshi\\cold_email_gen_2\\py310_ven_chroma\\lib\\site-packages (from kubernetes>=28.1.0->chromadb) (2.2.3)\n",
      "Requirement already satisfied: python-dateutil>=2.5.3 in d:\\desktop\\sakshi\\cold_email_gen_2\\py310_ven_chroma\\lib\\site-packages (from kubernetes>=28.1.0->chromadb) (2.9.0.post0)\n",
      "Requirement already satisfied: websocket-client!=0.40.0,!=0.41.*,!=0.42.*,>=0.32.0 in d:\\desktop\\sakshi\\cold_email_gen_2\\py310_ven_chroma\\lib\\site-packages (from kubernetes>=28.1.0->chromadb) (1.8.0)\n",
      "Collecting flatbuffers\n",
      "  Using cached flatbuffers-24.3.25-py2.py3-none-any.whl (26 kB)\n",
      "Collecting protobuf\n",
      "  Using cached protobuf-5.28.3-cp310-abi3-win_amd64.whl (431 kB)\n",
      "Collecting sympy\n",
      "  Using cached sympy-1.13.3-py3-none-any.whl (6.2 MB)\n",
      "Collecting coloredlogs\n",
      "  Using cached coloredlogs-15.0.1-py2.py3-none-any.whl (46 kB)\n",
      "Collecting deprecated>=1.2.6\n",
      "  Using cached Deprecated-1.2.14-py2.py3-none-any.whl (9.6 kB)\n",
      "Collecting importlib-metadata<=8.4.0,>=6.0\n",
      "  Using cached importlib_metadata-8.4.0-py3-none-any.whl (26 kB)\n",
      "Collecting googleapis-common-protos~=1.52\n",
      "  Using cached googleapis_common_protos-1.65.0-py2.py3-none-any.whl (220 kB)\n",
      "Collecting opentelemetry-proto==1.27.0\n",
      "  Using cached opentelemetry_proto-1.27.0-py3-none-any.whl (52 kB)\n",
      "Collecting opentelemetry-exporter-otlp-proto-common==1.27.0\n",
      "  Using cached opentelemetry_exporter_otlp_proto_common-1.27.0-py3-none-any.whl (17 kB)\n",
      "Collecting protobuf\n",
      "  Using cached protobuf-4.25.5-cp310-abi3-win_amd64.whl (413 kB)\n",
      "Collecting opentelemetry-util-http==0.48b0\n",
      "  Using cached opentelemetry_util_http-0.48b0-py3-none-any.whl (6.9 kB)\n",
      "Collecting opentelemetry-instrumentation-asgi==0.48b0\n",
      "  Using cached opentelemetry_instrumentation_asgi-0.48b0-py3-none-any.whl (15 kB)\n",
      "Collecting opentelemetry-instrumentation==0.48b0\n",
      "  Using cached opentelemetry_instrumentation-0.48b0-py3-none-any.whl (29 kB)\n",
      "Collecting opentelemetry-semantic-conventions==0.48b0\n",
      "  Using cached opentelemetry_semantic_conventions-0.48b0-py3-none-any.whl (149 kB)\n",
      "Collecting wrapt<2.0.0,>=1.0.0\n",
      "  Using cached wrapt-1.16.0-cp310-cp310-win_amd64.whl (37 kB)\n",
      "Requirement already satisfied: setuptools>=16.0 in d:\\desktop\\sakshi\\cold_email_gen_2\\py310_ven_chroma\\lib\\site-packages (from opentelemetry-instrumentation==0.48b0->opentelemetry-instrumentation-fastapi>=0.41b0->chromadb) (65.5.0)\n",
      "Collecting asgiref~=3.0\n",
      "  Using cached asgiref-3.8.1-py3-none-any.whl (23 kB)\n",
      "Collecting backoff>=1.10.0\n",
      "  Using cached backoff-2.2.1-py3-none-any.whl (15 kB)\n",
      "Collecting monotonic>=1.5\n",
      "  Using cached monotonic-1.6-py2.py3-none-any.whl (8.2 kB)\n",
      "Collecting pydantic-core==2.23.4\n",
      "  Using cached pydantic_core-2.23.4-cp310-none-win_amd64.whl (1.9 MB)\n",
      "Collecting annotated-types>=0.6.0\n",
      "  Using cached annotated_types-0.7.0-py3-none-any.whl (13 kB)\n",
      "Collecting markdown-it-py>=2.2.0\n",
      "  Using cached markdown_it_py-3.0.0-py3-none-any.whl (87 kB)\n",
      "Requirement already satisfied: pygments<3.0.0,>=2.13.0 in d:\\desktop\\sakshi\\cold_email_gen_2\\py310_ven_chroma\\lib\\site-packages (from rich>=10.11.0->chromadb) (2.18.0)\n",
      "Collecting huggingface-hub<1.0,>=0.16.4\n",
      "  Using cached huggingface_hub-0.26.2-py3-none-any.whl (447 kB)\n",
      "Collecting shellingham>=1.3.0\n",
      "  Using cached shellingham-1.5.4-py2.py3-none-any.whl (9.8 kB)\n",
      "Collecting click>=8.0.0\n",
      "  Using cached click-8.1.7-py3-none-any.whl (97 kB)\n",
      "Collecting websockets>=10.4\n",
      "  Using cached websockets-13.1-cp310-cp310-win_amd64.whl (159 kB)\n",
      "Collecting httptools>=0.5.0\n",
      "  Using cached httptools-0.6.4-cp310-cp310-win_amd64.whl (88 kB)\n",
      "Collecting watchfiles>=0.13\n",
      "  Using cached watchfiles-0.24.0-cp310-none-win_amd64.whl (277 kB)\n",
      "Collecting python-dotenv>=0.13\n",
      "  Using cached python_dotenv-1.0.1-py3-none-any.whl (19 kB)\n",
      "Collecting rsa<5,>=3.1.4\n",
      "  Using cached rsa-4.9-py3-none-any.whl (34 kB)\n",
      "Collecting pyasn1-modules>=0.2.1\n",
      "  Using cached pyasn1_modules-0.4.1-py3-none-any.whl (181 kB)\n",
      "Collecting cachetools<6.0,>=2.0.0\n",
      "  Using cached cachetools-5.5.0-py3-none-any.whl (9.5 kB)\n",
      "Collecting fsspec>=2023.5.0\n",
      "  Using cached fsspec-2024.10.0-py3-none-any.whl (179 kB)\n",
      "Collecting filelock\n",
      "  Using cached filelock-3.16.1-py3-none-any.whl (16 kB)\n",
      "Collecting zipp>=0.5\n",
      "  Using cached zipp-3.20.2-py3-none-any.whl (9.2 kB)\n",
      "Collecting mdurl~=0.1\n",
      "  Using cached mdurl-0.1.2-py3-none-any.whl (10.0 kB)\n",
      "Requirement already satisfied: charset-normalizer<4,>=2 in d:\\desktop\\sakshi\\cold_email_gen_2\\py310_ven_chroma\\lib\\site-packages (from requests->kubernetes>=28.1.0->chromadb) (3.4.0)\n",
      "Requirement already satisfied: exceptiongroup>=1.0.2 in d:\\desktop\\sakshi\\cold_email_gen_2\\py310_ven_chroma\\lib\\site-packages (from anyio->httpx>=0.27.0->chromadb) (1.2.2)\n",
      "Collecting humanfriendly>=9.1\n",
      "  Using cached humanfriendly-10.0-py2.py3-none-any.whl (86 kB)\n",
      "Collecting mpmath<1.4,>=1.1.0\n",
      "  Using cached mpmath-1.3.0-py3-none-any.whl (536 kB)\n",
      "Collecting pyreadline3\n",
      "  Using cached pyreadline3-3.5.4-py3-none-any.whl (83 kB)\n",
      "Collecting pyasn1<0.7.0,>=0.4.6\n",
      "  Using cached pyasn1-0.6.1-py3-none-any.whl (83 kB)\n",
      "Installing collected packages: pypika, mpmath, monotonic, flatbuffers, durationpy, zipp, wrapt, websockets, tqdm, tenacity, sympy, shellingham, python-dotenv, pyreadline3, pyproject_hooks, pydantic-core, pyasn1, protobuf, orjson, opentelemetry-util-http, oauthlib, numpy, mmh3, mdurl, importlib-resources, httptools, grpcio, fsspec, filelock, click, cachetools, bcrypt, backoff, asgiref, annotated-types, watchfiles, uvicorn, starlette, rsa, requests-oauthlib, pydantic, pyasn1-modules, posthog, opentelemetry-proto, markdown-it-py, importlib-metadata, humanfriendly, huggingface-hub, googleapis-common-protos, deprecated, chroma-hnswlib, build, tokenizers, rich, opentelemetry-exporter-otlp-proto-common, opentelemetry-api, google-auth, fastapi, coloredlogs, typer, opentelemetry-semantic-conventions, opentelemetry-instrumentation, onnxruntime, kubernetes, opentelemetry-sdk, opentelemetry-instrumentation-asgi, opentelemetry-instrumentation-fastapi, opentelemetry-exporter-otlp-proto-grpc, chromadb\n",
      "Successfully installed annotated-types-0.7.0 asgiref-3.8.1 backoff-2.2.1 bcrypt-4.2.0 build-1.2.2.post1 cachetools-5.5.0 chroma-hnswlib-0.7.6 chromadb-0.5.17 click-8.1.7 coloredlogs-15.0.1 deprecated-1.2.14 durationpy-0.9 fastapi-0.115.4 filelock-3.16.1 flatbuffers-24.3.25 fsspec-2024.10.0 google-auth-2.35.0 googleapis-common-protos-1.65.0 grpcio-1.67.1 httptools-0.6.4 huggingface-hub-0.26.2 humanfriendly-10.0 importlib-metadata-8.4.0 importlib-resources-6.4.5 kubernetes-31.0.0 markdown-it-py-3.0.0 mdurl-0.1.2 mmh3-5.0.1 monotonic-1.6 mpmath-1.3.0 numpy-2.1.3 oauthlib-3.2.2 onnxruntime-1.20.0 opentelemetry-api-1.27.0 opentelemetry-exporter-otlp-proto-common-1.27.0 opentelemetry-exporter-otlp-proto-grpc-1.27.0 opentelemetry-instrumentation-0.48b0 opentelemetry-instrumentation-asgi-0.48b0 opentelemetry-instrumentation-fastapi-0.48b0 opentelemetry-proto-1.27.0 opentelemetry-sdk-1.27.0 opentelemetry-semantic-conventions-0.48b0 opentelemetry-util-http-0.48b0 orjson-3.10.11 posthog-3.7.0 protobuf-4.25.5 pyasn1-0.6.1 pyasn1-modules-0.4.1 pydantic-2.9.2 pydantic-core-2.23.4 pypika-0.48.9 pyproject_hooks-1.2.0 pyreadline3-3.5.4 python-dotenv-1.0.1 requests-oauthlib-2.0.0 rich-13.9.4 rsa-4.9 shellingham-1.5.4 starlette-0.41.2 sympy-1.13.3 tenacity-9.0.0 tokenizers-0.20.2 tqdm-4.66.6 typer-0.12.5 uvicorn-0.32.0 watchfiles-0.24.0 websockets-13.1 wrapt-1.16.0 zipp-3.20.2\n"
     ]
    },
    {
     "name": "stderr",
     "output_type": "stream",
     "text": [
      "\n",
      "[notice] A new release of pip available: 22.3.1 -> 24.3.1\n",
      "[notice] To update, run: python.exe -m pip install --upgrade pip\n"
     ]
    }
   ],
   "source": [
    "!pip install chromadb"
   ]
  },
  {
   "cell_type": "code",
   "execution_count": 5,
   "id": "7780eee8-83fe-480b-b99e-e9a0a158ce7e",
   "metadata": {
    "tags": []
   },
   "outputs": [
    {
     "name": "stdout",
     "output_type": "stream",
     "text": [
      "0.5.17\n"
     ]
    }
   ],
   "source": [
    "import chromadb\n",
    "print(chromadb.__version__)  # This will confirm the version installed\n"
   ]
  },
  {
   "cell_type": "code",
   "execution_count": null,
   "id": "ae0180a9-fb59-4031-9ba5-57bb8bb862df",
   "metadata": {},
   "outputs": [],
   "source": []
  },
  {
   "cell_type": "code",
   "execution_count": null,
   "id": "1f949d16-75f9-484f-9d0d-481136013ec1",
   "metadata": {},
   "outputs": [],
   "source": []
  },
  {
   "cell_type": "code",
   "execution_count": null,
   "id": "77f80cba-1c89-4fb8-9cd9-cb4ea94c7c09",
   "metadata": {},
   "outputs": [],
   "source": []
  },
  {
   "cell_type": "code",
   "execution_count": 6,
   "id": "d228d1a9",
   "metadata": {},
   "outputs": [],
   "source": [
    "import chromadb\n",
    "\n",
    "client = chromadb.Client()\n",
    "collection = client.create_collection(name=\"my_collection\")"
   ]
  },
  {
   "cell_type": "code",
   "execution_count": 7,
   "id": "c7c073a1",
   "metadata": {},
   "outputs": [],
   "source": [
    "collection.add(\n",
    "\n",
    "    documents=[\n",
    "        'This document is about NY',\n",
    "        'This document is about Delhi'\n",
    "    ],\n",
    "    ids = ['id1','id2']\n",
    ")"
   ]
  },
  {
   "cell_type": "code",
   "execution_count": null,
   "id": "1c8fae04",
   "metadata": {},
   "outputs": [],
   "source": [
    "all_docs = collection.get()\n",
    "all_docs"
   ]
  },
  {
   "cell_type": "code",
   "execution_count": null,
   "id": "68daf215",
   "metadata": {},
   "outputs": [],
   "source": []
  }
 ],
 "metadata": {
  "kernelspec": {
   "display_name": "Python 3.10 (py310_ven_chroma)",
   "language": "python",
   "name": "py310_ven_chroma"
  },
  "language_info": {
   "codemirror_mode": {
    "name": "ipython",
    "version": 3
   },
   "file_extension": ".py",
   "mimetype": "text/x-python",
   "name": "python",
   "nbconvert_exporter": "python",
   "pygments_lexer": "ipython3",
   "version": "3.10.10"
  }
 },
 "nbformat": 4,
 "nbformat_minor": 5
}
